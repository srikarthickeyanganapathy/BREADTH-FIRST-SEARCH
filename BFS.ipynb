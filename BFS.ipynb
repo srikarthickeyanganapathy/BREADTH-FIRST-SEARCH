{
  "nbformat": 4,
  "nbformat_minor": 0,
  "metadata": {
    "colab": {
      "provenance": [],
      "authorship_tag": "ABX9TyO2TQnZ+Ze6buqKiBacnq8K",
      "include_colab_link": true
    },
    "kernelspec": {
      "name": "python3",
      "display_name": "Python 3"
    },
    "language_info": {
      "name": "python"
    }
  },
  "cells": [
    {
      "cell_type": "markdown",
      "metadata": {
        "id": "view-in-github",
        "colab_type": "text"
      },
      "source": [
        "<a href=\"https://colab.research.google.com/github/srikarthickeyanganapathy/DEPTH-FIRST-SEARCH/blob/main/BFS.ipynb\" target=\"_parent\"><img src=\"https://colab.research.google.com/assets/colab-badge.svg\" alt=\"Open In Colab\"/></a>"
      ]
    },
    {
      "cell_type": "code",
      "execution_count": 7,
      "metadata": {
        "colab": {
          "base_uri": "https://localhost:8080/"
        },
        "id": "vwrs7X9OSSCx",
        "outputId": "e319996c-9361-4b1f-eb65-9410ec088469"
      },
      "outputs": [
        {
          "output_type": "stream",
          "name": "stdout",
          "text": [
            "7 9\n",
            "A B\n",
            "A C\n",
            "A F\n",
            "C E\n",
            "C F\n",
            "C D\n",
            "D E\n",
            "D G\n",
            "G F\n",
            "['A', 'B', 'C', 'F', 'E', 'D', 'G']\n"
          ]
        }
      ],
      "source": [
        "from collections import deque\n",
        "from collections import defaultdict\n",
        "'''\n",
        "V E\n",
        "FOR EVERY EDGE\n",
        "U V\n",
        "7 9\n",
        "A B\n",
        "A C\n",
        "A F\n",
        "C E\n",
        "C F\n",
        "C D\n",
        "D E\n",
        "D G\n",
        "G F\n",
        "'''\n",
        "def bfs(graph,start,visited,path):\n",
        "    queue = deque()\n",
        "    path.append(start)\n",
        "    queue.append(start)\n",
        "    visited[start] = True\n",
        "    while len(queue) != 0:\n",
        "        tmpnode = queue.popleft()\n",
        "        for node in graph[tmpnode]:\n",
        "            if not visited[node]:\n",
        "                path.append(node)\n",
        "                queue.append(node)\n",
        "                visited[node] = True\n",
        "    return path\n",
        "\n",
        "graph = defaultdict(list)\n",
        "v,e = map(int,input().split())\n",
        "for i in range(e):\n",
        "    #TYOE UR CODE HERE\n",
        "    u,v = input().split()\n",
        "    graph[u].append(v)\n",
        "    graph[v].append(u)\n",
        "start = 'A'\n",
        "path = []\n",
        "visited = defaultdict(bool)\n",
        "traversedpath = bfs(graph,start,visited,path)\n",
        "print(traversedpath)"
      ]
    },
    {
      "cell_type": "code",
      "source": [
        "from collections import deque\n",
        "from collections import defaultdict\n",
        "'''\n",
        "V E\n",
        "FOR EVERY EDGE\n",
        "U V\n",
        "5 6\n",
        "0 1\n",
        "0 2\n",
        "1 2\n",
        "1 3\n",
        "2 4\n",
        "3 4\n",
        "'''\n",
        "def bfs(graph,start,visited,path):\n",
        "    queue = deque()\n",
        "    path.append(start)\n",
        "    queue.append(start)\n",
        "    visited[start] = True\n",
        "    while len(queue) != 0:\n",
        "        tmpnode = queue.popleft()\n",
        "        for node in graph[tmpnode]:\n",
        "            if not visited[node]:\n",
        "                path.append(node)\n",
        "                queue.append(node)\n",
        "                visited[node] = True\n",
        "    return path\n",
        "\n",
        "graph = defaultdict(list)\n",
        "v,e = map(int,input().split())\n",
        "for i in range(e):\n",
        "    #TYOE UR CODE HERE\n",
        "    u,v = input().split()\n",
        "    graph[u].append(v)\n",
        "    graph[v].append(u)\n",
        "start = '0'\n",
        "path = []\n",
        "visited = defaultdict(bool)\n",
        "traversedpath = bfs(graph,start,visited,path)\n",
        "print(traversedpath)"
      ],
      "metadata": {
        "colab": {
          "base_uri": "https://localhost:8080/"
        },
        "id": "TvACHujUc9oZ",
        "outputId": "09305584-7353-4aec-d4d5-01941c597979"
      },
      "execution_count": 6,
      "outputs": [
        {
          "output_type": "stream",
          "name": "stdout",
          "text": [
            "5 6\n",
            "0 1\n",
            "0 2\n",
            "1 2\n",
            "1 3\n",
            "2 4\n",
            "3 4\n",
            "['0', '1', '2', '3', '4']\n"
          ]
        }
      ]
    }
  ]
}